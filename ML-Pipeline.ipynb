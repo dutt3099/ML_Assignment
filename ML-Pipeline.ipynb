{
 "cells": [
  {
   "cell_type": "code",
   "execution_count": 1,
   "metadata": {},
   "outputs": [],
   "source": [
    "# The Process starts with importing necessary libraries.\n",
    "\n",
    "import numpy as np \n",
    "import pandas as pd \n",
    "import matplotlib.pyplot as plt\n",
    "import sklearn.model_selection"
   ]
  },
  {
   "cell_type": "code",
   "execution_count": null,
   "metadata": {},
   "outputs": [
    {
     "data": {
      "text/html": [
       "<div>\n",
       "<style scoped>\n",
       "    .dataframe tbody tr th:only-of-type {\n",
       "        vertical-align: middle;\n",
       "    }\n",
       "\n",
       "    .dataframe tbody tr th {\n",
       "        vertical-align: top;\n",
       "    }\n",
       "\n",
       "    .dataframe thead th {\n",
       "        text-align: right;\n",
       "    }\n",
       "</style>\n",
       "<table border=\"1\" class=\"dataframe\">\n",
       "  <thead>\n",
       "    <tr style=\"text-align: right;\">\n",
       "      <th></th>\n",
       "      <th>User ID</th>\n",
       "      <th>Heart Rate (BPM)</th>\n",
       "      <th>Blood Oxygen Level (%)</th>\n",
       "      <th>Step Count</th>\n",
       "      <th>Sleep Duration (hours)</th>\n",
       "      <th>Activity Level</th>\n",
       "      <th>Stress Level</th>\n",
       "    </tr>\n",
       "  </thead>\n",
       "  <tbody>\n",
       "    <tr>\n",
       "      <th>0</th>\n",
       "      <td>4174.0</td>\n",
       "      <td>58.939776</td>\n",
       "      <td>98.809650</td>\n",
       "      <td>5450.390578</td>\n",
       "      <td>7.167235622316564</td>\n",
       "      <td>Highly Active</td>\n",
       "      <td>1</td>\n",
       "    </tr>\n",
       "    <tr>\n",
       "      <th>1</th>\n",
       "      <td>NaN</td>\n",
       "      <td>NaN</td>\n",
       "      <td>98.532195</td>\n",
       "      <td>727.601610</td>\n",
       "      <td>6.538239375570314</td>\n",
       "      <td>Highly_Active</td>\n",
       "      <td>5</td>\n",
       "    </tr>\n",
       "    <tr>\n",
       "      <th>2</th>\n",
       "      <td>1860.0</td>\n",
       "      <td>247.803052</td>\n",
       "      <td>97.052954</td>\n",
       "      <td>2826.521994</td>\n",
       "      <td>ERROR</td>\n",
       "      <td>Highly Active</td>\n",
       "      <td>5</td>\n",
       "    </tr>\n",
       "    <tr>\n",
       "      <th>3</th>\n",
       "      <td>2294.0</td>\n",
       "      <td>40.000000</td>\n",
       "      <td>96.894213</td>\n",
       "      <td>13797.338044</td>\n",
       "      <td>7.367789630207228</td>\n",
       "      <td>Actve</td>\n",
       "      <td>3</td>\n",
       "    </tr>\n",
       "    <tr>\n",
       "      <th>4</th>\n",
       "      <td>2130.0</td>\n",
       "      <td>61.950165</td>\n",
       "      <td>98.583797</td>\n",
       "      <td>15679.067648</td>\n",
       "      <td>NaN</td>\n",
       "      <td>Highly_Active</td>\n",
       "      <td>6</td>\n",
       "    </tr>\n",
       "  </tbody>\n",
       "</table>\n",
       "</div>"
      ],
      "text/plain": [
       "   User ID  Heart Rate (BPM)  Blood Oxygen Level (%)    Step Count  \\\n",
       "0   4174.0         58.939776               98.809650   5450.390578   \n",
       "1      NaN               NaN               98.532195    727.601610   \n",
       "2   1860.0        247.803052               97.052954   2826.521994   \n",
       "3   2294.0         40.000000               96.894213  13797.338044   \n",
       "4   2130.0         61.950165               98.583797  15679.067648   \n",
       "\n",
       "  Sleep Duration (hours) Activity Level Stress Level  \n",
       "0      7.167235622316564  Highly Active            1  \n",
       "1      6.538239375570314  Highly_Active            5  \n",
       "2                  ERROR  Highly Active            5  \n",
       "3      7.367789630207228          Actve            3  \n",
       "4                    NaN  Highly_Active            6  "
      ]
     },
     "execution_count": 2,
     "metadata": {},
     "output_type": "execute_result"
    }
   ],
   "source": [
    "# Data collection and creating data frame\n",
    "df=pd.read_csv(\"https://raw.githubusercontent.com/dutt3099/ML_Assignment/refs/heads/main/Dataset/unclean_smartwatch_health_data.csv\")\n",
    "df.head() "
   ]
  },
  {
   "cell_type": "code",
   "execution_count": null,
   "metadata": {},
   "outputs": [],
   "source": [
    "# Cleaning Data"
   ]
  },
  {
   "cell_type": "code",
   "execution_count": null,
   "metadata": {},
   "outputs": [],
   "source": [
    "# Visualize Data"
   ]
  },
  {
   "cell_type": "code",
   "execution_count": null,
   "metadata": {},
   "outputs": [],
   "source": [
    "# ML Model Tranning"
   ]
  }
 ],
 "metadata": {
  "kernelspec": {
   "display_name": "Python 3",
   "language": "python",
   "name": "python3"
  },
  "language_info": {
   "codemirror_mode": {
    "name": "ipython",
    "version": 3
   },
   "file_extension": ".py",
   "mimetype": "text/x-python",
   "name": "python",
   "nbconvert_exporter": "python",
   "pygments_lexer": "ipython3",
   "version": "3.9.6"
  }
 },
 "nbformat": 4,
 "nbformat_minor": 2
}
